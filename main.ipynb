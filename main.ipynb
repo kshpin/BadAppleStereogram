{
 "cells": [
  {
   "cell_type": "code",
   "execution_count": 44,
   "metadata": {},
   "outputs": [],
   "source": [
    "from io import BytesIO\n",
    "import time\n",
    "import imageio\n",
    "from PIL import Image\n",
    "import numpy as np\n",
    "import random"
   ]
  },
  {
   "cell_type": "code",
   "execution_count": 2,
   "metadata": {},
   "outputs": [],
   "source": [
    "def raw_to_image(img_size, bytes_list):\n",
    "    return Image.frombytes(\"RGB\", img_size, bytes(bytes_list))"
   ]
  },
  {
   "cell_type": "code",
   "execution_count": 8,
   "metadata": {},
   "outputs": [],
   "source": [
    "def get_noise(base_size, num_repeats):\n",
    "    \"\"\"\n",
    "    now obsolete, the noise generation is part of the algorithm\n",
    "    \"\"\"\n",
    "    \n",
    "    noise_data = [255*random.getrandbits(1) for x in range(base_size[0]*base_size[1])]\n",
    "    noise_chunk = raw_to_image(base_size, noise_data)\n",
    "    #noise_chunk.save(\"noise_chunk.png\")\n",
    "\n",
    "    noise = Image.new(\"L\", size)\n",
    "    x_offset = 0\n",
    "    for _ in range(num_repeats):\n",
    "        noise.paste(noise_chunk, (x_offset, 0))\n",
    "        x_offset += noise_chunk.size[0]\n",
    "    #noise.save(\"full_noise.png\")\n",
    "    return noise"
   ]
  },
  {
   "cell_type": "code",
   "execution_count": 65,
   "metadata": {},
   "outputs": [],
   "source": [
    "def make_stereogram(size, raw):\n",
    "    \"\"\"\n",
    "    honestly no idea what's happening here, but it works\n",
    "    https://www.cs.waikato.ac.nz/~ihw/papers/94-HWT-SI-IHW-SIRDS-paper.pdf\n",
    "    \"\"\" \n",
    "\n",
    "    target_data = np.ndarray((size[1], size[0], 3), dtype=np.uint8, order=\"C\") # flip width and height? C or F?\n",
    "\n",
    "    for y, row in enumerate(raw):\n",
    "        #print(y)\n",
    "\n",
    "        same = list(range(size[0]))\n",
    "\n",
    "        for x in range(len(row)):\n",
    "            s = int((1-mu*row[x])*E/(2-mu*row[x]))\n",
    "            \n",
    "            left = x-s//2\n",
    "            right = left+s\n",
    "\n",
    "            if left < 0 or right >= size[0]:\n",
    "                continue\n",
    "\n",
    "            visible = True\n",
    "            t = 1\n",
    "            zt = 0\n",
    "\n",
    "            while visible and zt < 1:\n",
    "                zt = row[x] + 2*(2 - mu*row[x])*t/(mu*E)\n",
    "                visible = row[x-t] < zt and row[x+t] < zt\n",
    "                t += 1\n",
    "\n",
    "            if visible:\n",
    "                l = same[left]\n",
    "                while l != left and l != right:\n",
    "                    if l < right:\n",
    "                        left = l\n",
    "                        l = same[left]\n",
    "                    else:\n",
    "                        same[left] = right\n",
    "                        left = right\n",
    "                        l = same[left]\n",
    "                        right = l\n",
    "                \n",
    "                same[left] = right\n",
    "\n",
    "        pix = [0] * size[0]\n",
    "        for x in reversed(range(len(row))):\n",
    "            if same[x] == x:\n",
    "                pix[x] = 255*random.getrandbits(1)\n",
    "            else:\n",
    "                pix[x] = pix[same[x]]\n",
    "            \n",
    "            val = pix[x]\n",
    "            target_data[y][x] = [val, val, val] # flip x and y?\n",
    "\n",
    "    far = int(E/2)\n",
    "    side = size[1]//20\n",
    "    target_data[size[1]-side:, size[0]//2-far//2-side//2:size[0]//2-far//2+side//2] = [0, 0, 0]\n",
    "    target_data[size[1]-side:, size[0]//2+far//2-side//2:size[0]//2+far//2+side//2] = [0, 0, 0]\n",
    "    return target_data"
   ]
  },
  {
   "cell_type": "code",
   "execution_count": 60,
   "metadata": {},
   "outputs": [],
   "source": [
    "total_size = (1920, 1080)\n",
    "\n",
    "mu = 1/3\n",
    "DPI = 72\n",
    "E = 6*DPI"
   ]
  },
  {
   "source": [
    "all basic preparation now done"
   ],
   "cell_type": "markdown",
   "metadata": {}
  },
  {
   "cell_type": "code",
   "execution_count": 55,
   "metadata": {},
   "outputs": [],
   "source": [
    "#noise_base = get_noise(noise_size, repeat_chunks)\n",
    "src = Image.open(\"source.png\").convert(\"L\")\n",
    "src_raw = list(src.getdata(0))\n",
    "src_raw = [[j/255 for j in src_raw[i:i + total_size[0]]] for i in range(0, len(src_raw), total_size[0])]"
   ]
  },
  {
   "cell_type": "code",
   "execution_count": 15,
   "metadata": {},
   "outputs": [
    {
     "output_type": "stream",
     "name": "stdout",
     "text": [
      "{'plugin': 'ffmpeg', 'nframes': inf, 'ffmpeg_version': '4.2.2-static https://johnvansickle.com/ffmpeg/ built with gcc 8 (Debian 8.3.0-6)', 'codec': 'h264', 'pix_fmt': 'yuv420p(progressive)', 'fps': 60.0, 'source_size': (2566, 1924), 'size': (2566, 1924), 'duration': 219.16}\n"
     ]
    }
   ],
   "source": [
    "with open(\"bad_apple_better.mkv\", \"rb\") as file:\n",
    "    content = file.read()\n",
    "    video = imageio.get_reader(BytesIO(content), 'ffmpeg')\n",
    "\n",
    "print(video.get_meta_data())"
   ]
  },
  {
   "cell_type": "code",
   "execution_count": 67,
   "metadata": {},
   "outputs": [
    {
     "output_type": "stream",
     "name": "stdout",
     "text": [
      "900 IMAGEIO FFMPEG_WRITER WARNING: input image is not divisible by macro_block_size=16, resizing from (2566, 1924) to (2576, 1936) to ensure video compatibility with most codecs and players. To prevent resizing, make your input image divisible by the macro_block_size or set the macro_block_size to 1 (risking incompatibility).\n",
      "219.96780633926392\n",
      "920 172.07382321357727\n",
      "940 167.61366510391235\n",
      "960 108.5531735420227\n",
      "980 178.05480813980103\n",
      "1000 156.4303388595581\n",
      "1020 151.06680488586426\n",
      "1040 165.51153779029846\n",
      "1060 189.88237476348877\n",
      "1080 240.814297914505\n"
     ]
    }
   ],
   "source": [
    "writer = imageio.get_writer(\"target.mkv\", fps=3)\n",
    "src_size = video.get_meta_data()[\"size\"]\n",
    "\n",
    "for index, img_src in enumerate(video.iter_data()):\n",
    "    if index % 20 != 0:\n",
    "        continue\n",
    "    \n",
    "    if index < 900:\n",
    "        continue\n",
    "    if index >= 1100:\n",
    "        break\n",
    "\n",
    "    print(index, end=\" \")\n",
    "    t0 = time.time()\n",
    "\n",
    "    src_raw = np.asarray(img_src)[:, :, 0] / 255 # just taking the red channel, assuming grayscale anyway\n",
    "\n",
    "    img_data = make_stereogram(src_size, src_raw)\n",
    "    writer.append_data(img_data)\n",
    "\n",
    "    print(time.time()-t0)\n",
    "\n",
    "writer.close()"
   ]
  },
  {
   "cell_type": "code",
   "execution_count": 66,
   "metadata": {
    "tags": []
   },
   "outputs": [],
   "source": [
    "target = make_stereogram(total_size, src_raw)\n",
    "Image.fromarray(target).save(\"target.png\")"
   ]
  }
 ],
 "metadata": {
  "kernelspec": {
   "name": "python369jvsc74a57bd031f2aee4e71d21fbe5cf8b01ff0e069b9275f58929596ceb00d14d90e3e16cd6",
   "display_name": "Python 3.6.9 64-bit"
  },
  "language_info": {
   "codemirror_mode": {
    "name": "ipython",
    "version": 3
   },
   "file_extension": ".py",
   "mimetype": "text/x-python",
   "name": "python",
   "nbconvert_exporter": "python",
   "pygments_lexer": "ipython3",
   "version": "3.6.9-final"
  },
  "metadata": {
   "interpreter": {
    "hash": "31f2aee4e71d21fbe5cf8b01ff0e069b9275f58929596ceb00d14d90e3e16cd6"
   }
  }
 },
 "nbformat": 4,
 "nbformat_minor": 4
}